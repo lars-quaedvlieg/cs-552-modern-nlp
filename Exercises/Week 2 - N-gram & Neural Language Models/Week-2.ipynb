{
 "cells": [
  {
   "cell_type": "markdown",
   "id": "3275ace2",
   "metadata": {},
   "source": [
    "# 📚  Exercise Session - Week 2\n",
    "\n",
    "Welcome to Week 2 exercise's session of CS552-Modern NLP!\n",
    "\n",
    "\n",
    "> **What will be covered:**\n",
    "1. [**TASK A:** N-gram Language Models](#ngram_lm)\n",
    "    - [Unigram Language Model](#unigram_lm)\n",
    "    - [Bi-gram Language Model](#bigram_lm)\n",
    "    - [Tri-gram Language Model](#trigram_lm)\n",
    "     \n",
    "2. [**TASK B:** Neural Language Models](#neural_lm)\n",
    "    - [Fixed-Window Neural Language Model](#fixed_window_lm)\n",
    "    - [RNN-based Language Model](#rnn_lm)\n",
    "\n",
    "> **By the end of the session you will be able to:**\n",
    "> - ✅  Compute and interpret the perplexity of a language model \n",
    "> - ✅  Implement N-gram language models for N=1,2,3\n",
    "> - ✅  Implement, train, and evaluate a fixed window language model\n",
    "> - ✅  Evaluate an RNN language model\n",
    "> - ✅  Understand the advantages and disadvantages of each of the above models"
   ]
  },
  {
   "cell_type": "code",
   "execution_count": null,
   "id": "98eb6b6c",
   "metadata": {},
   "outputs": [],
   "source": [
    "# install the libraries if needed.\n",
    "# !pip install datasets\n",
    "# !pip install numpy"
   ]
  },
  {
   "cell_type": "markdown",
   "id": "272c0a7c",
   "metadata": {},
   "source": [
    "<a name=\"ngram_lm\"></a>\n",
    "## 1. Task A: N-gram Language Models "
   ]
  },
  {
   "cell_type": "markdown",
   "id": "85c137c6",
   "metadata": {},
   "source": [
    "\n",
    "In this exercise, we will better understand the functioning of different types of (non-neural) language modeling, namely,  Unigram LM, Bi-gram LM, and Tri-gram LM."
   ]
  },
  {
   "cell_type": "markdown",
   "id": "066c0427",
   "metadata": {},
   "source": [
    "### 1.1 Unigram Language Model <a name=\"unigram_lm\"></a>\n",
    "In the simple Unigram language model, we pick/generate next token independent of the previous token. In other words, during the generation, we pick the tokens according to the token probability. Therefore, for an arbitrary sequence $x_1x_2~...x_n$, its respective probability becomes:\n",
    "$$p(x_1x_2~...x_n) = \\Pi_{i=1} ^n p(x_i)$$\n",
    "Let's use an unsupervised dataset (raw corpus) to evaluate this model's perplexity. We use Huggingface's `datasets` library to download needed datasets.\n",
    " \n",
    "\n",
    "Here we use the `Penn Treebank` dataset, featuring a million words of 1989 Wall Street Journal material. The rare words in this version are already replaced with `<unk>` token. The numbers are also replaced with a special token. This token replacement helps us to end up with a more reasonable vocabulary size to work with.\n"
   ]
  },
  {
   "cell_type": "code",
   "execution_count": 1,
   "id": "69afb9de",
   "metadata": {
    "scrolled": true,
    "ExecuteTime": {
     "end_time": "2024-02-28T08:38:19.670658200Z",
     "start_time": "2024-02-28T08:38:11.607241500Z"
    }
   },
   "outputs": [
    {
     "data": {
      "text/plain": "Downloading data:   0%|          | 0.00/2.96M [00:00<?, ?B/s]",
      "application/vnd.jupyter.widget-view+json": {
       "version_major": 2,
       "version_minor": 0,
       "model_id": "6f26665f2119444c8788cace01d41fb3"
      }
     },
     "metadata": {},
     "output_type": "display_data"
    },
    {
     "data": {
      "text/plain": "Downloading data:   0%|          | 0.00/262k [00:00<?, ?B/s]",
      "application/vnd.jupyter.widget-view+json": {
       "version_major": 2,
       "version_minor": 0,
       "model_id": "fd56d496d6b04ad1a02fb0d614ae3cb9"
      }
     },
     "metadata": {},
     "output_type": "display_data"
    },
    {
     "data": {
      "text/plain": "Downloading data:   0%|          | 0.00/236k [00:00<?, ?B/s]",
      "application/vnd.jupyter.widget-view+json": {
       "version_major": 2,
       "version_minor": 0,
       "model_id": "334755c4b0894daab7bc9337ab079cae"
      }
     },
     "metadata": {},
     "output_type": "display_data"
    },
    {
     "data": {
      "text/plain": "Generating train split:   0%|          | 0/42068 [00:00<?, ? examples/s]",
      "application/vnd.jupyter.widget-view+json": {
       "version_major": 2,
       "version_minor": 0,
       "model_id": "7fabe381572f474391ab50c09e54021e"
      }
     },
     "metadata": {},
     "output_type": "display_data"
    },
    {
     "data": {
      "text/plain": "Generating test split:   0%|          | 0/3761 [00:00<?, ? examples/s]",
      "application/vnd.jupyter.widget-view+json": {
       "version_major": 2,
       "version_minor": 0,
       "model_id": "f7b55589123e45d09ec26cf5b2d3545d"
      }
     },
     "metadata": {},
     "output_type": "display_data"
    },
    {
     "data": {
      "text/plain": "Generating validation split:   0%|          | 0/3370 [00:00<?, ? examples/s]",
      "application/vnd.jupyter.widget-view+json": {
       "version_major": 2,
       "version_minor": 0,
       "model_id": "4b99ee3394764c92bfa7e2390221ab55"
      }
     },
     "metadata": {},
     "output_type": "display_data"
    }
   ],
   "source": [
    "import datasets\n",
    "import numpy as np\n",
    "import torch\n",
    "from datasets import load_dataset\n",
    "\n",
    "ptb_dataset = load_dataset(\"ptb_text_only\", split=\"train\")\n",
    "\n",
    "# splitting dataset in train/test (to be later used for language model evaluation)\n",
    "ptb_dataset = ptb_dataset.train_test_split(test_size=0.2, seed=1)\n",
    "ptb_train, ptb_test = ptb_dataset['train'], ptb_dataset['test']"
   ]
  },
  {
   "cell_type": "markdown",
   "id": "20589cd0",
   "metadata": {},
   "source": [
    "#### Let's have a look at a few samples of the training dataset (and also the structure of the dataset)"
   ]
  },
  {
   "cell_type": "code",
   "execution_count": 2,
   "id": "b6ceb684",
   "metadata": {
    "ExecuteTime": {
     "end_time": "2024-02-28T08:38:22.602460300Z",
     "start_time": "2024-02-28T08:38:22.499464800Z"
    }
   },
   "outputs": [
    {
     "name": "stdout",
     "output_type": "stream",
     "text": [
      "{'sentence': \"a former executive agreed that the departures do n't reflect major problems adding if you see any company that grows as fast as reebok did it is going to have people coming and going\"}\n",
      "\n",
      "{'sentence': 'with talk today of a second economic <unk> in west germany east germany no longer can content itself with being the economic star in a loser league'}\n",
      "\n",
      "{'sentence': 'transportation secretary sam skinner who earlier fueled the anti-takeover fires with his <unk> attacks on foreign investment in u.s. carriers now says the bill would further <unk> the jittery capital markets'}\n"
     ]
    }
   ],
   "source": [
    "print(f\"{ptb_train[0]}\\n\\n{ptb_train[1]}\\n\\n{ptb_train[2]}\")"
   ]
  },
  {
   "cell_type": "markdown",
   "id": "07207b13",
   "metadata": {},
   "source": [
    "During generation with a given language model, we often need to have a `<stop>` token in our vocabulary to terminate the generation of a given sentence/paragraph. In this dataset, every sample is a sentence, and the `<stop>` token should be added to the end of every sample (i.e., end of sentence).\n",
    "\n",
    "#### Create a new train/test dataset starting from `ptb_train` and `ptb_test` that has a `<stop>` at the end of each sentence. (Note: do not change the structure of the datasets objects, and just change the respective sentences as discussed).\n",
    "Hint: use the `.map()` functionality of the `datasets` package (read more [here](https://huggingface.co/docs/datasets/process#map]))."
   ]
  },
  {
   "cell_type": "code",
   "execution_count": 7,
   "id": "aa1b7b70",
   "metadata": {
    "ExecuteTime": {
     "end_time": "2024-02-28T08:40:45.401889100Z",
     "start_time": "2024-02-28T08:40:43.859848400Z"
    }
   },
   "outputs": [
    {
     "data": {
      "text/plain": "Map:   0%|          | 0/33654 [00:00<?, ? examples/s]",
      "application/vnd.jupyter.widget-view+json": {
       "version_major": 2,
       "version_minor": 0,
       "model_id": "9bb5f5b6b8524c0cb23bc5acfa25a987"
      }
     },
     "metadata": {},
     "output_type": "display_data"
    },
    {
     "data": {
      "text/plain": "Map:   0%|          | 0/8414 [00:00<?, ? examples/s]",
      "application/vnd.jupyter.widget-view+json": {
       "version_major": 2,
       "version_minor": 0,
       "model_id": "438b5a60e06149d1a0a1efe285c7b764"
      }
     },
     "metadata": {},
     "output_type": "display_data"
    }
   ],
   "source": [
    "def add_stop_token(input_sample: dict):\n",
    "    \"\"\"\n",
    "    args:\n",
    "        input_sample: a dict representing a sample of the dataset. (look above for the dict struture)\n",
    "    output:\n",
    "        modified_sample: modified dict adding <stop> at the end of each sentence.\n",
    "    \"\"\"\n",
    "    # YOUR CODE HERE\n",
    "\n",
    "    return {'sentence': input_sample[\"sentence\"] + \" <stop>\"}\n",
    "\n",
    "\n",
    "ptb_train = ptb_train.map(add_stop_token)\n",
    "ptb_test = ptb_test.map(add_stop_token)"
   ]
  },
  {
   "cell_type": "code",
   "outputs": [
    {
     "name": "stdout",
     "output_type": "stream",
     "text": [
      "{'sentence': \"a former executive agreed that the departures do n't reflect major problems adding if you see any company that grows as fast as reebok did it is going to have people coming and going <stop>\"}\n",
      "\n",
      "{'sentence': 'with talk today of a second economic <unk> in west germany east germany no longer can content itself with being the economic star in a loser league <stop>'}\n",
      "\n",
      "{'sentence': 'transportation secretary sam skinner who earlier fueled the anti-takeover fires with his <unk> attacks on foreign investment in u.s. carriers now says the bill would further <unk> the jittery capital markets <stop>'}\n"
     ]
    }
   ],
   "source": [
    "print(f\"{ptb_train[0]}\\n\\n{ptb_train[1]}\\n\\n{ptb_train[2]}\")"
   ],
   "metadata": {
    "collapsed": false,
    "ExecuteTime": {
     "end_time": "2024-02-28T08:40:54.728401800Z",
     "start_time": "2024-02-28T08:40:54.663404300Z"
    }
   },
   "id": "9e1c9790ca533da0",
   "execution_count": 9
  },
  {
   "cell_type": "markdown",
   "id": "2d338821",
   "metadata": {},
   "source": [
    "For both `ptb_train` and `ptb_test` datasets, filter out every sample that has less than 3 tokens. it will help remove very short sentences that are not very helpful for training/evaluating a langugage model.\n",
    "\n",
    "Hint: use `.filter()` functionality of the `datasets` package (read more [here](https://huggingface.co/docs/datasets/process#select-and-filter))."
   ]
  },
  {
   "cell_type": "code",
   "execution_count": 16,
   "id": "9c0222f5",
   "metadata": {
    "ExecuteTime": {
     "end_time": "2024-02-28T08:44:11.418995500Z",
     "start_time": "2024-02-28T08:44:11.315075500Z"
    }
   },
   "outputs": [
    {
     "data": {
      "text/plain": "Filter:   0%|          | 0/33654 [00:00<?, ? examples/s]",
      "application/vnd.jupyter.widget-view+json": {
       "version_major": 2,
       "version_minor": 0,
       "model_id": "d394537236a24d76a45be13ebc2e50c3"
      }
     },
     "metadata": {},
     "output_type": "display_data"
    },
    {
     "data": {
      "text/plain": "Filter:   0%|          | 0/8414 [00:00<?, ? examples/s]",
      "application/vnd.jupyter.widget-view+json": {
       "version_major": 2,
       "version_minor": 0,
       "model_id": "89b08aff823f43ba998cad03086fda9d"
      }
     },
     "metadata": {},
     "output_type": "display_data"
    }
   ],
   "source": [
    "num_tokens_filter = lambda input_sample: len(input_sample['sentence'].split(\" \")) > 3\n",
    "\n",
    "ptb_train = ptb_train.filter(num_tokens_filter)\n",
    "ptb_test = ptb_test.filter(num_tokens_filter)"
   ]
  },
  {
   "cell_type": "markdown",
   "id": "2733f77b",
   "metadata": {},
   "source": [
    "#### What are the 10 most frequent tokens in this dataset? Can you spot the token used to replace the numbers in this dataset? How are rare tokens replaced in this dataset?"
   ]
  },
  {
   "cell_type": "code",
   "execution_count": 26,
   "id": "28e93fb6",
   "metadata": {
    "ExecuteTime": {
     "end_time": "2024-02-28T08:52:01.768493900Z",
     "start_time": "2024-02-28T08:52:00.581722600Z"
    }
   },
   "outputs": [
    {
     "data": {
      "text/plain": "<Figure size 640x480 with 1 Axes>",
      "image/png": "[encoded data removed]"
     },
     "metadata": {},
     "output_type": "display_data"
    }
   ],
   "source": [
    "from matplotlib import pyplot as plt\n",
    "from collections import Counter\n",
    "\n",
    "# Flatten the list of tokenized sentences and count word occurrences\n",
    "train_word_counts = Counter(word for input_sample in ptb_train for word in input_sample['sentence'].split(\" \"))\n",
    "test_word_counts = Counter(word for input_sample in ptb_test for word in input_sample['sentence'].split(\" \"))\n",
    "\n",
    "# Step 4 & 5: Find the top 10 most common words\n",
    "most_common_words = (train_word_counts + test_word_counts).most_common(10)\n",
    "\n",
    "# Step 6: Plot the histogram\n",
    "words, frequencies = zip(*most_common_words)\n",
    "plt.bar(words, frequencies)\n",
    "plt.xlabel('Words')\n",
    "plt.ylabel('Frequency')\n",
    "plt.title('Top 10 Most Occurring Words')\n",
    "plt.show()"
   ]
  },
  {
   "cell_type": "markdown",
   "id": "a6eaec09",
   "metadata": {},
   "source": [
    "#### Now let's create a dictionary of the word probabilites (in the format of `{word: Prob(word)}`in the following function. We will use these probabilities to estimate sequence probabilities for a given sequence, as mentioned above."
   ]
  },
  {
   "cell_type": "code",
   "execution_count": 34,
   "id": "0e015a74",
   "metadata": {
    "ExecuteTime": {
     "end_time": "2024-02-28T09:00:36.791639100Z",
     "start_time": "2024-02-28T09:00:35.852317Z"
    }
   },
   "outputs": [],
   "source": [
    "from collections import defaultdict\n",
    "\n",
    "\n",
    "def get_word_probability_dict(train_dataset: datasets.arrow_dataset.Dataset):\n",
    "    \"\"\"\n",
    "    args: \n",
    "        train_dataset: a Dataset object that can be iterated to get all the sentences\n",
    "    output:\n",
    "        word_prob_dict: a dictionary containing the word probabilities (and outputting zero for non-seen tokens)\n",
    "    \"\"\"\n",
    "    word_counts = Counter(word for input_sample in train_dataset for word in input_sample['sentence'].split(\" \"))\n",
    "\n",
    "    counts = np.array(list(word_counts.values()))\n",
    "    words = np.array(list(word_counts.keys()))\n",
    "\n",
    "    total_count = counts.sum()\n",
    "\n",
    "    probabilities = counts / total_count\n",
    "\n",
    "    word_prob_dict = defaultdict(float, zip(words, probabilities))\n",
    "\n",
    "    return word_prob_dict\n",
    "\n",
    "\n",
    "word_prob_dict = get_word_probability_dict(ptb_train)"
   ]
  },
  {
   "cell_type": "markdown",
   "id": "766d403e",
   "metadata": {},
   "source": [
    "Let's also get a sense of how high the top-k probabilities are:"
   ]
  },
  {
   "cell_type": "code",
   "execution_count": 35,
   "id": "37d958f6",
   "metadata": {
    "scrolled": true,
    "ExecuteTime": {
     "end_time": "2024-02-28T09:00:37.916350Z",
     "start_time": "2024-02-28T09:00:37.856325200Z"
    }
   },
   "outputs": [
    {
     "data": {
      "text/plain": "[('the', 0.05472703188187844),\n ('<unk>', 0.0482614478434353),\n ('<stop>', 0.044881771985074446),\n ('N', 0.03495565859883598),\n ('of', 0.026222134181755948),\n ('to', 0.02546345893922917),\n ('a', 0.022772385299218552),\n ('in', 0.01950186165159423),\n ('and', 0.01888333245742053),\n (\"'s\", 0.010578331534343193),\n ('for', 0.009578443381670245),\n ('that', 0.009567662916412315),\n ('$', 0.008023361268213933),\n ('is', 0.007981586965339457),\n ('it', 0.006557217993135539),\n ('said', 0.006522181481047268),\n ('on', 0.006054578800484582),\n ('at', 0.005317464488473661),\n ('by', 0.005308031581372973),\n ('as', 0.00520157448695092)]"
     },
     "execution_count": 35,
     "metadata": {},
     "output_type": "execute_result"
    }
   ],
   "source": [
    "sorted(word_prob_dict.items(), key=lambda item: item[1], reverse=True)[:20]"
   ]
  },
  {
   "cell_type": "markdown",
   "id": "e1b408c2",
   "metadata": {},
   "source": [
    "#### Now let's analyze the Unigram language model for different sequences. We first create a function that can output the probability for a given string."
   ]
  },
  {
   "cell_type": "code",
   "execution_count": 36,
   "id": "fc167228",
   "metadata": {
    "ExecuteTime": {
     "end_time": "2024-02-28T09:04:14.677066Z",
     "start_time": "2024-02-28T09:04:14.624962200Z"
    }
   },
   "outputs": [],
   "source": [
    "def unigram_lm_seq_probability(input_sentence: str,\n",
    "                               word_prob_dict: dict):\n",
    "    \"\"\"\n",
    "    args:\n",
    "        input_sentence: The input sequence string. Here we assume\n",
    "        word_prob_dict: A dictionary containing the probability for a given token\n",
    "    output:\n",
    "        probability: The probability of the input_sentence according to the Unigram language model\n",
    "    \"\"\"\n",
    "    probability_map_fn = np.vectorize(lambda word_key: word_prob_dict[word_key])\n",
    "    word_probs = probability_map_fn(np.array(input_sentence.split(\" \")))\n",
    "\n",
    "    return np.prod(word_probs)"
   ]
  },
  {
   "cell_type": "markdown",
   "id": "3427e046",
   "metadata": {},
   "source": [
    "#### Let's investigate a major issue with Unigram language model. What are the probabilities for the two following sequences?\n",
    "- the the the the \\<stop>\n",
    "- i love computer science \\<stop>\n",
    "\n",
    "DIscussion: How can we avoid having large probability values for sequences like `the the the <stop>`"
   ]
  },
  {
   "cell_type": "code",
   "execution_count": 37,
   "id": "2c753d2d",
   "metadata": {
    "ExecuteTime": {
     "end_time": "2024-02-28T09:04:16.704655200Z",
     "start_time": "2024-02-28T09:04:16.642451700Z"
    }
   },
   "outputs": [
    {
     "name": "stdout",
     "output_type": "stream",
     "text": [
      "probability for seq1 is 4.0260352626148156e-07, and for seq2 is 2.3386075741772593e-17\n"
     ]
    }
   ],
   "source": [
    "seq1 = \"the the the the <stop>\"\n",
    "seq2 = \"i love computer science <stop>\"\n",
    "\n",
    "prob_seq1 = unigram_lm_seq_probability(seq1, word_prob_dict)\n",
    "prob_seq2 = unigram_lm_seq_probability(seq2, word_prob_dict)\n",
    "print(f\"probability for seq1 is {prob_seq1}, and for seq2 is {prob_seq2}\")"
   ]
  },
  {
   "cell_type": "markdown",
   "id": "06747969",
   "metadata": {},
   "source": [
    "#### Now let's formally evaluate the Unigram model in terms of perplexity. We first compute the entropy as the average negative log-likelihood:\n",
    "$$H(W_{test}∣M)= \\frac{1}{|W_{test}|} \\sum_{w\\in W_{test}} −log_2P(w∣M)$$\n",
    ", where $W_{test}$ is the input sequence and M is the Unigram language model. (note that the logarithm is in base 2).\n",
    "\n",
    "In order to get a reliable value, we will do the above calculation for all the sentences in `ptb_test` dataset and then an average is taken over all these samples."
   ]
  },
  {
   "cell_type": "code",
   "execution_count": 52,
   "id": "aa48300f",
   "metadata": {
    "ExecuteTime": {
     "end_time": "2024-02-28T09:20:02.796982500Z",
     "start_time": "2024-02-28T09:20:02.782987300Z"
    }
   },
   "outputs": [],
   "source": [
    "def get_unigram_lm_entropy(input_sentence: str,\n",
    "                           word_prob_dict: dict):\n",
    "    \"\"\"\n",
    "    args:\n",
    "        input_sentence: the input string that we would like to have its respective entropy value.\n",
    "        word_prob_dict: A dictionary containing the probability for a given token\n",
    "    output:\n",
    "        entropy: entropy value as defined above\n",
    "    \"\"\"\n",
    "    probability_map_fn = np.vectorize(lambda word_key: word_prob_dict[word_key])\n",
    "    word_probs = probability_map_fn(np.array(input_sentence.split(\" \")))\n",
    "\n",
    "    # if np.count_nonzero(word_probs) < len(word_probs):\n",
    "    #     print(list(zip(input_sentence.split(\" \"), word_probs)))\n",
    "\n",
    "    return -np.log2(word_probs).mean()"
   ]
  },
  {
   "cell_type": "markdown",
   "id": "b07afa63",
   "metadata": {},
   "source": [
    "Now compute the average entropy for all the sentences in the `ptb_test` given above function, and then compute the average entropy. Then compute the perplexity as $2^{\\bar{H}}$, where $\\bar{H}$ is the average perplexity over the test dataset."
   ]
  },
  {
   "cell_type": "code",
   "execution_count": 61,
   "id": "ac66be2c",
   "metadata": {
    "ExecuteTime": {
     "end_time": "2024-02-28T09:25:03.803804Z",
     "start_time": "2024-02-28T09:25:03.168759100Z"
    }
   },
   "outputs": [
    {
     "name": "stdout",
     "output_type": "stream",
     "text": [
      "The perplexity for the Unigram language model is 679.8932253758302\n"
     ]
    }
   ],
   "source": [
    "def get_unigram_lm_perplexity(test_dataset: datasets.arrow_dataset.Dataset,\n",
    "                              word_prob_dict: dict):\n",
    "    \"\"\"\n",
    "    args:\n",
    "        test_dataset: the test dataset samples are used to compute the perplexity for the Unigram LM.\n",
    "        word_prob_dict: A dictionary containing the probability for a given token\n",
    "    output:\n",
    "        perplexity: entropy value as defined above\n",
    "    \"\"\"\n",
    "    avg_entropy_per_sample = test_dataset.map(\n",
    "        lambda input_sample: {'avg_entropy': get_unigram_lm_entropy(input_sample['sentence'], word_prob_dict)})\n",
    "    avg_entropy = np.array(avg_entropy_per_sample[\"avg_entropy\"])\n",
    "    # Filter sentences with an infinite entropy (e.g. they contain at least one word that is not in the word_prob_dict)\n",
    "    avg_entropy = avg_entropy[avg_entropy < 1E308].mean()\n",
    "    return 2 ** avg_entropy\n",
    "\n",
    "\n",
    "unigram_lm_perplexity = get_unigram_lm_perplexity(ptb_test, word_prob_dict)\n",
    "print(f\"The perplexity for the Unigram language model is {unigram_lm_perplexity}\")"
   ]
  },
  {
   "cell_type": "markdown",
   "id": "4a3cec0a",
   "metadata": {},
   "source": [
    "As discussed in the lectures, the models with lower perplexities are desired; however, we should be careful when comparing language models with different vocabualry sizes.\n",
    "#### In the `ptb_train` dataset, replace every token that is appearing less than 10 times with the `<unk>` token. (Note: the same token replacement should be done for the test dataset). What is the Unigram language model perplexity for the new dataset?\n",
    "Discussion: What would happen to the vocabulary size and perplexity as we increase the rare token threshold to higher values? (instead of 10 here)"
   ]
  },
  {
   "cell_type": "code",
   "execution_count": 82,
   "id": "3a14c853",
   "metadata": {
    "ExecuteTime": {
     "end_time": "2024-02-28T09:38:52.213109300Z",
     "start_time": "2024-02-28T09:38:51.232202600Z"
    }
   },
   "outputs": [],
   "source": [
    "def remove_rare_token(train_dataset: datasets.arrow_dataset.Dataset,\n",
    "                      test_dataset: datasets.arrow_dataset.Dataset,\n",
    "                      rare_token_threshold: int):\n",
    "    \"\"\"\n",
    "    Note that the tokens that are considered rare here, are identified based on the train_dataset, so that\n",
    "    we have the same token mapping (to <unk>) for both the train and test datasets. \n",
    "    args:\n",
    "        train_dataset: the input dataset where its rare tokens has to be replaced with <unk> token.\n",
    "        rare_token_threshold: every word that is appearing less than this threshold in the train dataset will\n",
    "                              be replace with the <unk> token\n",
    "    output:\n",
    "        cleaned_train_dataset: the cleaned train dataset where rare tokens are replace with <unk> token.\n",
    "        cleaned_test_dataset: the cleaned test dataset where rare tokens are replace with <unk> token.\n",
    "    \"\"\"\n",
    "\n",
    "    train_word_counts = Counter(word for input_sample in train_dataset for word in input_sample['sentence'].split(\" \"))\n",
    "    keys_with_values_less_than_10 = set(\n",
    "        [word for word, count in train_word_counts.items() if count < rare_token_threshold])\n",
    "\n",
    "    def replace_word_fn(input_sample):\n",
    "        return {'sentence': \" \".join([word if not word in keys_with_values_less_than_10 else \"<unk>\" for word in\n",
    "                                      input_sample['sentence'].split(\" \")])}\n",
    "\n",
    "    cleaned_train_dataset = train_dataset.map(replace_word_fn)\n",
    "    cleaned_test_dataset = test_dataset.map(replace_word_fn)\n",
    "\n",
    "    return cleaned_train_dataset, cleaned_test_dataset\n",
    "\n",
    "\n",
    "cleaned_train_dataset, cleaned_test_dataset = remove_rare_token(train_dataset=ptb_train,\n",
    "                                                                test_dataset=ptb_test,\n",
    "                                                                rare_token_threshold=10)\n"
   ]
  },
  {
   "cell_type": "markdown",
   "id": "6f09a7d3",
   "metadata": {},
   "source": [
    "##### Now, follow similar steps to compute the perplexity given the two new datasets (`cleaned_train_dataset` and `cleaned_test_dataset`)"
   ]
  },
  {
   "cell_type": "code",
   "execution_count": 83,
   "id": "d2083f50",
   "metadata": {
    "ExecuteTime": {
     "end_time": "2024-02-28T09:38:54.482894300Z",
     "start_time": "2024-02-28T09:38:53.636290Z"
    }
   },
   "outputs": [
    {
     "name": "stdout",
     "output_type": "stream",
     "text": [
      "The perplexity for the Unigram language model after replacing rare tokens is  483.86634757568487\n"
     ]
    }
   ],
   "source": [
    "cleaned_unigram_lm_perplexity = get_unigram_lm_perplexity(cleaned_test_dataset, word_prob_dict)\n",
    "\n",
    "print(\"The perplexity for the Unigram language model after replacing rare tokens is \",\n",
    "      cleaned_unigram_lm_perplexity)"
   ]
  },
  {
   "cell_type": "markdown",
   "id": "4abe9eac",
   "metadata": {},
   "source": [
    "## 1.2 Bi-gram Language Model <a name='bigram_lm'></a>\n",
    "In the Bi-gram language model, we pick/generate next token conditioned only on the previous token. Therefore, for an arbitrary sequence $x_1x_2~...x_n$, its respective probability becomes:\n",
    "$$p(x_1x_2~...x_n) = p(x_1) ~\\Pi_{i=2} ^n p(x_i|x_{i-1})$$\n",
    "Let's use the same dataset (`Penn Treebank`) to evaluate this model's perplexity. (We use the dataset that already has the `<stop>` token at the end).\n",
    "\n",
    "We estimate $p(x_i|x_{i-1})$ as the $\\frac{count(x_{i-1},~x_i)}{count(x_{i-1})}$ according to the training dataset frequencies."
   ]
  },
  {
   "cell_type": "code",
   "execution_count": 91,
   "id": "f96966fc",
   "metadata": {
    "ExecuteTime": {
     "end_time": "2024-02-28T09:52:39.741140800Z",
     "start_time": "2024-02-28T09:52:36.549516500Z"
    }
   },
   "outputs": [],
   "source": [
    "def get_first_order_conditional_probabilities(train_dataset: datasets.arrow_dataset.Dataset):\n",
    "    \"\"\"\n",
    "    In this function the conditional probabilities have to be computed based train_dataset. The output of the\n",
    "    function is a dictionary having keys like (x_{i-1}, x_i) as a tuple and the value being p(x_i|x_{i-1}).\n",
    "    args:\n",
    "        train_dataset: a Dataset object that can be iterated to get all the sentences\n",
    "    output:\n",
    "        word_prob_dict: \n",
    "        first_order_condition_prob: a dictionary having containing the first order conditional probabilities\n",
    "                                    as discussed above.\n",
    "        word_prob_dict: a dictionary containing the word probabilities\n",
    "    \"\"\"\n",
    "    first_order_condition_prob = defaultdict(float)  # in order to get zeroes \n",
    "    # let's first get the word frequencies (later used for computation of conditional probabilities)\n",
    "    word_prob_dict = get_word_probability_dict(train_dataset)\n",
    "\n",
    "    # Ugly code, I know\n",
    "    word_counts = Counter(word for input_sample in train_dataset for word in input_sample['sentence'].split(\" \"))\n",
    "    tuple_word_counts = Counter(\n",
    "        (input_sample['sentence'].split(\" \")[idx], input_sample['sentence'].split(\" \")[idx + 1]) for input_sample in\n",
    "        train_dataset for idx in range(len(input_sample['sentence'].split(\" \")) - 1))\n",
    "\n",
    "    for word_tuple, tuple_count in tuple_word_counts.items():\n",
    "        first_order_condition_prob[word_tuple] = tuple_count / word_counts[word_tuple[0]]\n",
    "\n",
    "    return word_prob_dict, first_order_condition_prob\n",
    "\n",
    "\n",
    "word_prob_dict, first_order_condition_prob = get_first_order_conditional_probabilities(ptb_train)"
   ]
  },
  {
   "cell_type": "markdown",
   "id": "c89cb406",
   "metadata": {},
   "source": [
    "#### Now let's analyze the Bi-gram language model for different sequences. We first create a function that can output the probability for a given string."
   ]
  },
  {
   "cell_type": "code",
   "execution_count": 93,
   "id": "e459cdc4",
   "metadata": {
    "ExecuteTime": {
     "end_time": "2024-02-28T09:54:26.935167900Z",
     "start_time": "2024-02-28T09:54:26.861150700Z"
    }
   },
   "outputs": [],
   "source": [
    "def bigram_lm_seq_probability(input_sentence: str,\n",
    "                              word_prob_dict: dict,\n",
    "                              first_order_condition_prob: dict):\n",
    "    \"\"\"\n",
    "    args:\n",
    "        input_sentence: The input sequence string. Here we assume\n",
    "        word_prob_dict: a dictionary containing the word probabilities\n",
    "        first_order_condition_prob: a dictionary containing the first order conditional probabilities\n",
    "                                    as discussed in the previous function.\n",
    "    output:\n",
    "        probability: The probability of the input_sentence according to the Bi-gram language model\n",
    "    \"\"\"\n",
    "    words = input_sentence.split(\" \")\n",
    "    probability = word_prob_dict[words[0]]\n",
    "    for idx in range(len(words) - 1):\n",
    "        probability *= first_order_condition_prob[(words[idx], words[idx + 1])]\n",
    "\n",
    "    return probability"
   ]
  },
  {
   "cell_type": "markdown",
   "id": "a87509ef",
   "metadata": {},
   "source": [
    "Let's investigate a major issue with higher order language models.\n",
    "#### Compute the probabilities for all the sequences in `ptb_test` dataset, and compute the minimum value among these probablities. What would be the perplexity for the dataset given these values?\n",
    "Discussion: How can we avoid this **overfitting** to train dataset?"
   ]
  },
  {
   "cell_type": "code",
   "execution_count": 97,
   "id": "3d9a0460",
   "metadata": {
    "ExecuteTime": {
     "end_time": "2024-02-28T09:56:54.507472600Z",
     "start_time": "2024-02-28T09:56:54.118324500Z"
    }
   },
   "outputs": [
    {
     "name": "stdout",
     "output_type": "stream",
     "text": [
      "91.2621359223301% of samples in the test set have zero probability!\n"
     ]
    }
   ],
   "source": [
    "bigram_test_probabilities = []\n",
    "\n",
    "for input_sample in ptb_test:\n",
    "    bigram_test_probabilities.append(\n",
    "        bigram_lm_seq_probability(input_sample['sentence'], word_prob_dict, first_order_condition_prob))\n",
    "\n",
    "# Infinite perplexity\n",
    "print(f\"{bigram_test_probabilities.count(0) / len(ptb_test) * 100}% of samples in the test set have zero probability!\")"
   ]
  },
  {
   "cell_type": "markdown",
   "id": "9ced914f",
   "metadata": {},
   "source": [
    "### Smoothing\n",
    "As we saw above, due to having new pair of consecutive words in the test dataset, we might have zero probabilities for some sequences. Therefore, as discussed in the lectures, in order to have a meaningful perplexity for N-gram language models, we need to smooth the probabilities to have non-zero values for non-seen sequences. In this exercise, we use Laplace smoothing as defined below:\n",
    "$$P(x_i|x_{i-1}) = \\frac{count(x_{i-1},~x_i) + \\alpha}{count(x_{i-1}) + \\alpha ~|V|}$$\n",
    ", where $\\alpha$ is the smoothing parameter, and $|V|$ is the (train dataset) vocabulary size.\n",
    "\n",
    "#### Let's recompute the conditional probabilities using Laplace smoothing."
   ]
  },
  {
   "cell_type": "code",
   "execution_count": 98,
   "id": "5d808944",
   "metadata": {
    "ExecuteTime": {
     "end_time": "2024-02-28T09:58:36.830110300Z",
     "start_time": "2024-02-28T09:58:36.750089700Z"
    }
   },
   "outputs": [],
   "source": [
    "def get_smoothed_first_order_conditional_probabilities(train_dataset: datasets.arrow_dataset.Dataset,\n",
    "                                                       smoothing_alpha: float):\n",
    "    \"\"\"\n",
    "    In this function the conditional probabilities have to be computed based on train_dataset. The output\n",
    "    of the function is a dictionary having keys like (x_{i-1}, x_i) as a tuple and the\n",
    "    value being p(x_i|x_{i-1}).\n",
    "    args:\n",
    "        train_dataset: a Dataset object that can be iterated to get all the sentences\n",
    "        smoothing_alpha: The alpha parameter used in the Laplace smoothing.\n",
    "    output:\n",
    "        word_prob_dict: a dictionary containing the word probabilities \n",
    "        first_order_condition_prob: a dictionary containing the smoothed first order\n",
    "                                    conditional probabilities as discussed above.\n",
    "    \"\"\"\n",
    "    first_order_condition_prob = defaultdict(float)  # in order to get zeroes \n",
    "    # let's first get the word frequencies (later used for computation of conditional probabilities)\n",
    "    word_prob_dict = get_word_probability_dict(train_dataset)\n",
    "\n",
    "    # Ugly code, I know\n",
    "    word_counts = Counter(word for input_sample in train_dataset for word in input_sample['sentence'].split(\" \"))\n",
    "    vocabulary_size = len(word_counts.keys())\n",
    "    tuple_word_counts = Counter(\n",
    "        (input_sample['sentence'].split(\" \")[idx], input_sample['sentence'].split(\" \")[idx + 1]) for input_sample in\n",
    "        train_dataset for idx in range(len(input_sample['sentence'].split(\" \")) - 1))\n",
    "\n",
    "    for word_tuple, tuple_count in tuple_word_counts.items():\n",
    "        first_order_condition_prob[word_tuple] = (tuple_count + smoothing_alpha) / (\n",
    "                word_counts[word_tuple[0]] + smoothing_alpha * vocabulary_size)\n",
    "\n",
    "    return word_prob_dict, first_order_condition_prob"
   ]
  },
  {
   "cell_type": "code",
   "execution_count": 99,
   "id": "3008240c",
   "metadata": {
    "ExecuteTime": {
     "end_time": "2024-02-28T10:05:36.726746Z",
     "start_time": "2024-02-28T10:05:36.674730400Z"
    }
   },
   "outputs": [],
   "source": [
    "def smoothed_bigram_lm_seq_probability(input_sentence: str,\n",
    "                                       word_prob_dict: dict,\n",
    "                                       word_frequency_dict: dict,\n",
    "                                       first_order_condition_prob: dict,\n",
    "                                       smoothing_alpha: float):\n",
    "    \"\"\"\n",
    "    args:\n",
    "        input_sentence: The input sequence string. Here we assume\n",
    "        word_prob_dict: a dictionary containing the word probabilities\n",
    "        word_frequency_dict: a dictionary containing the frequency for every word in vocabulary\n",
    "        first_order_condition_prob: a dictionary containing the first order conditional probabilities\n",
    "                                    as discussed in the previous function.\n",
    "        smoothing_alpha: The alpha parameter used in the Laplace smoothing.\n",
    "    output:\n",
    "        probability: The probability of the input_sentence according to the Bi-gram language model\n",
    "    \"\"\"\n",
    "    words = input_sentence.split(\" \")\n",
    "    vocabulary_size = len(word_frequency_dict.keys())\n",
    "    probability = word_prob_dict[words[0]]\n",
    "    for idx in range(len(words) - 1):\n",
    "        bigram_key = (words[idx], words[idx + 1])\n",
    "        if bigram_key in first_order_condition_prob:\n",
    "            probability *= first_order_condition_prob[bigram_key]\n",
    "        else:\n",
    "            probability *= smoothing_alpha / (word_frequency_dict[words[idx]] + smoothing_alpha * vocabulary_size)\n",
    "\n",
    "    return probability"
   ]
  },
  {
   "cell_type": "markdown",
   "id": "4cd77e6c",
   "metadata": {},
   "source": [
    "#### Assuming $\\alpha=0.01$ for the smoothing, use the previous function and `bigram_lm_seq_probability` to compute the sequence probabilities for all the sentences in the `ptb_test` dataset."
   ]
  },
  {
   "cell_type": "code",
   "execution_count": 105,
   "id": "e2c76c94",
   "metadata": {
    "ExecuteTime": {
     "end_time": "2024-02-28T10:08:08.913181500Z",
     "start_time": "2024-02-28T10:08:04.264022500Z"
    }
   },
   "outputs": [
    {
     "name": "stdout",
     "output_type": "stream",
     "text": [
      "0.0% of samples in the test set have zero probability!\n"
     ]
    }
   ],
   "source": [
    "smoothed_bigram_test_probabilities = []\n",
    "\n",
    "word_prob_dict, first_order_condition_prob = get_smoothed_first_order_conditional_probabilities(ptb_train,\n",
    "                                                                                                smoothing_alpha=0.01)\n",
    "word_frequency_dict = Counter(word for input_sample in ptb_train for word in input_sample['sentence'].split(\" \"))\n",
    "\n",
    "for input_sample in ptb_test:\n",
    "    smoothed_bigram_test_probabilities.append(\n",
    "        smoothed_bigram_lm_seq_probability(input_sample['sentence'], word_prob_dict, word_frequency_dict,\n",
    "                                           first_order_condition_prob, smoothing_alpha=0.01))\n",
    "\n",
    "print(\n",
    "    f\"{smoothed_bigram_test_probabilities.count(0) / len(ptb_test) * 100}% of samples in the test set have zero probability!\")"
   ]
  },
  {
   "cell_type": "markdown",
   "id": "8f8b38b8",
   "metadata": {},
   "source": [
    "If the perplexity for a given sequence is computed as below, compute the Bigram language model perplexity over `ptb_test` dataset over all the sentences ($\\alpha=0.01)$:\n",
    "$$Perplexity(x_1x_2...x_n) = p(x_1x_2...x_n)^{-1/n}$$\n",
    ", where $p(x_1x_2...x_n)$ is the probability assigned to $x_1x_2...x_n$ sequence by the language model."
   ]
  },
  {
   "cell_type": "code",
   "execution_count": 111,
   "id": "7e3665f1",
   "metadata": {
    "ExecuteTime": {
     "end_time": "2024-02-28T10:11:56.275866300Z",
     "start_time": "2024-02-28T10:11:56.027136900Z"
    }
   },
   "outputs": [
    {
     "name": "stdout",
     "output_type": "stream",
     "text": [
      "Bigram language model perplexity is 507.22252609769953\n"
     ]
    }
   ],
   "source": [
    "bigram_lm_perplexities = []\n",
    "\n",
    "for i, smoothed_bigram_test_probability in enumerate(smoothed_bigram_test_probabilities):\n",
    "    bigram_lm_perplexities.append(smoothed_bigram_test_probability ** (-1 / len(ptb_test[i]['sentence'].split(\" \"))))\n",
    "\n",
    "bigram_lm_perplexity = np.mean(bigram_lm_perplexities)\n",
    "\n",
    "print(f\"Bigram language model perplexity is {bigram_lm_perplexity}\")"
   ]
  },
  {
   "cell_type": "markdown",
   "id": "edd753ef",
   "metadata": {},
   "source": [
    "Repeat the same steps but for `cleaned_train_dataset` and `cleaned_test_dataset` datasets where rare tokens (with frequency less than 10) are replaced with `<unk>` token. Do we have a better or a worse perplexity compared to the previous computed perplexity?"
   ]
  },
  {
   "cell_type": "code",
   "execution_count": 113,
   "id": "92b98f8b",
   "metadata": {
    "ExecuteTime": {
     "end_time": "2024-02-28T10:13:34.139402200Z",
     "start_time": "2024-02-28T10:13:31.641837700Z"
    }
   },
   "outputs": [
    {
     "name": "stdout",
     "output_type": "stream",
     "text": [
      "(cleaned) Bigram language model perplexity is 283.5839772795466\n"
     ]
    }
   ],
   "source": [
    "smoothed_bigram_test_probabilities = []\n",
    "\n",
    "word_prob_dict, first_order_condition_prob = get_smoothed_first_order_conditional_probabilities(cleaned_train_dataset,\n",
    "                                                                                                smoothing_alpha=0.01)\n",
    "word_frequency_dict = Counter(\n",
    "    word for input_sample in cleaned_train_dataset for word in input_sample['sentence'].split(\" \"))\n",
    "\n",
    "for input_sample in cleaned_test_dataset:\n",
    "    smoothed_bigram_test_probabilities.append(\n",
    "        smoothed_bigram_lm_seq_probability(input_sample['sentence'], word_prob_dict, word_frequency_dict,\n",
    "                                           first_order_condition_prob, smoothing_alpha=0.01))\n",
    "\n",
    "cleaned_bigram_lm_perplexities = []\n",
    "\n",
    "for i, smoothed_bigram_test_probability in enumerate(smoothed_bigram_test_probabilities):\n",
    "    cleaned_bigram_lm_perplexities.append(\n",
    "        smoothed_bigram_test_probability ** (-1 / len(cleaned_test_dataset[i]['sentence'].split(\" \"))))\n",
    "\n",
    "cleaned_bigram_lm_perplexity = np.mean(cleaned_bigram_lm_perplexities)\n",
    "\n",
    "print(f\"(cleaned) Bigram language model perplexity is {cleaned_bigram_lm_perplexity}\")"
   ]
  },
  {
   "cell_type": "markdown",
   "id": "e2ea844a",
   "metadata": {},
   "source": [
    "## 1.3 Tri-gram Language Model <a name='trigram_lm'></a>\n",
    "In the Tri-gram language model, we pick/generate next token conditioned only on the two previous tokens. Therefore, for an arbitrary sequence $x_1x_2~...x_n$, its respective probability becomes:\n",
    "$$p(x_1x_2~...x_n) = p(x_1) p(x_2|x_1) ~\\Pi_{i=3} ^n p(x_i|x_{i-2}x_{i-1})$$\n",
    "Let's use the same dataset (`Penn Treebank`) to evaluate this model's perplexity. (We use the dataset that already has the `<stop>` token at the end of each sentence).\n",
    "\n",
    "\n",
    "We estimate $p(x_i|x_{i-1}x_{i-2})$ using the Laplace smoothing with $\\alpha=3 \\cdot 10^{-3}$. First let's write a function that computes these conditional probabilities for the Tri-gram language model."
   ]
  },
  {
   "cell_type": "code",
   "execution_count": 116,
   "id": "abdf0b35",
   "metadata": {
    "ExecuteTime": {
     "end_time": "2024-02-28T10:25:33.150798100Z",
     "start_time": "2024-02-28T10:25:33.099780800Z"
    }
   },
   "outputs": [],
   "source": [
    "def get_smoothed_second_order_conditional_probabilities(train_dataset: datasets.arrow_dataset.Dataset,\n",
    "                                                        smoothing_alpha: float):\n",
    "    \"\"\"\n",
    "    In this function the conditional probabilities have to be computed based on train_dataset. The output\n",
    "    of the function is a dictionary having keys like (x_{i-2}, x_{i-1}, x_i) as a tuple and the\n",
    "    value being p(x_i | x_{i-2} x_{i-1}).\n",
    "    args:\n",
    "        train_dataset: a Dataset object that can be iterated to get all the sentences\n",
    "        smoothing_alpha: The alpha parameter used in the Laplace smoothing.\n",
    "    output:\n",
    "        word_prob_dict: a dictionary containing the word probabilities \n",
    "        first_order_condition_prob: a dictionary containing the smoothed first order\n",
    "                                    conditional probabilities.\n",
    "        second_order_condition_prob: a dictionary containing the smoothed second order\n",
    "                                     conditional probabilities.\n",
    "    \"\"\"\n",
    "    smoothed_second_order_condition_prob = defaultdict(\n",
    "        float)  # Note that we shouldn't get zeros for unseen probabilies.\n",
    "\n",
    "    # let's first get the 0th and 1st order conditional probabilities\n",
    "    (word_prob_dict, first_order_condition_prob) = get_smoothed_first_order_conditional_probabilities(\n",
    "        train_dataset, smoothing_alpha)\n",
    "\n",
    "    # Ugly code, I know\n",
    "    word_counts = Counter(word for input_sample in train_dataset for word in input_sample['sentence'].split(\" \"))\n",
    "    vocabulary_size = len(word_counts.keys())\n",
    "    tuple_word_counts = Counter((input_sample['sentence'].split(\" \")[idx], input_sample['sentence'].split(\" \")[idx + 1])\n",
    "                                for input_sample in train_dataset for idx in\n",
    "                                range(len(input_sample['sentence'].split(\" \")) - 1))\n",
    "\n",
    "    triple_word_counts = Counter((\n",
    "                                     input_sample['sentence'].split(\" \")[idx],\n",
    "                                     input_sample['sentence'].split(\" \")[idx + 1],\n",
    "                                     input_sample['sentence'].split(\" \")[idx + 2])\n",
    "                                 for input_sample in train_dataset for idx in\n",
    "                                 range(len(input_sample['sentence'].split(\" \")) - 2))\n",
    "\n",
    "    for word_triple, triple_count in triple_word_counts.items():\n",
    "        smoothed_second_order_condition_prob[word_triple] = (triple_count + smoothing_alpha) / (\n",
    "                tuple_word_counts[(word_triple[0], word_triple[1])] + smoothing_alpha * vocabulary_size)\n",
    "\n",
    "    return word_prob_dict, first_order_condition_prob, smoothed_second_order_condition_prob\n"
   ]
  },
  {
   "cell_type": "markdown",
   "id": "936a664f",
   "metadata": {},
   "source": [
    "#### Now let's analyze the Tri-gram language model for different sequences. We first create a function that can output the probability for a given string."
   ]
  },
  {
   "cell_type": "code",
   "execution_count": 156,
   "id": "3f6a692c",
   "metadata": {
    "ExecuteTime": {
     "end_time": "2024-02-28T10:35:43.347452600Z",
     "start_time": "2024-02-28T10:35:43.254352300Z"
    }
   },
   "outputs": [],
   "source": [
    "def smoothed_trigram_lm_seq_probability(input_sentence: str,\n",
    "                                        word_prob_dict: dict,\n",
    "                                        word_frequency_dict: dict,\n",
    "                                        bigram_frequency_dict: dict,\n",
    "                                        first_order_condition_prob: dict,\n",
    "                                        second_order_condition_prob: dict,\n",
    "                                        smoothing_alpha: float):\n",
    "    \"\"\"\n",
    "    args:\n",
    "        input_sentence: The input sequence string. Here we assume\n",
    "        word_prob_dict: a dictionary containing the word probabilities\n",
    "        word_frequency_dict: a dictionary containing the frequency for every word in vocabulary\n",
    "        bigram_frequency_dict: a dictionary containing the frequency for every bigram in vocabulary\n",
    "        first_order_condition_prob: a dictionary containing the first order conditional probabilities\n",
    "                                    as discussed earlier.\n",
    "        second_order_condition_prob: a dictionary containing the second order conditional probabilities\n",
    "                                     as discussed in the previous function.\n",
    "    output:\n",
    "        probability: The probability of the input_sentence according to the Bi-gram language model\n",
    "    \"\"\"\n",
    "    words = input_sentence.split(\" \")\n",
    "    vocabulary_size = len(word_frequency_dict.keys())\n",
    "    bigram_key = (words[0], words[1])\n",
    "    probability = word_prob_dict[words[0]] * (\n",
    "        first_order_condition_prob[bigram_key] if bigram_frequency_dict[bigram_key] > 0 else smoothing_alpha / (\n",
    "                word_frequency_dict[words[0]] + smoothing_alpha * vocabulary_size))\n",
    "    for idx in range(len(words) - 2):\n",
    "        trigram_key = (words[idx], words[idx + 1], words[idx + 2])\n",
    "        if trigram_key in second_order_condition_prob:\n",
    "            probability *= second_order_condition_prob[trigram_key]\n",
    "        else:\n",
    "            bigram_key = (words[idx], words[idx + 1])\n",
    "            probability *= smoothing_alpha / (bigram_frequency_dict[bigram_key] + smoothing_alpha * vocabulary_size)\n",
    "\n",
    "    return probability"
   ]
  },
  {
   "cell_type": "markdown",
   "id": "16865742",
   "metadata": {},
   "source": [
    "#### Now let's compute the probability for sequences in the test dataset, assuming $\\alpha=3\\cdot10^{-3}$ has been used in the Laplace smoothing."
   ]
  },
  {
   "cell_type": "code",
   "execution_count": 161,
   "id": "36feefd8",
   "metadata": {
    "ExecuteTime": {
     "end_time": "2024-02-28T10:37:35.754292700Z",
     "start_time": "2024-02-28T10:37:25.188181800Z"
    }
   },
   "outputs": [
    {
     "name": "stdout",
     "output_type": "stream",
     "text": [
      "0.0% of samples in the test set have zero probability!\n"
     ]
    }
   ],
   "source": [
    "smoothed_trigram_test_probabilities = []\n",
    "\n",
    "word_prob_dict, first_order_condition_prob, second_order_condition_prob = get_smoothed_second_order_conditional_probabilities(\n",
    "    ptb_train, smoothing_alpha=0.01)\n",
    "word_frequency_dict = Counter(word for input_sample in ptb_train for word in input_sample['sentence'].split(\" \"))\n",
    "bigram_frequency_dict = Counter((input_sample['sentence'].split(\" \")[idx], input_sample['sentence'].split(\" \")[idx + 1])\n",
    "                                for input_sample in ptb_train for idx in\n",
    "                                range(len(input_sample['sentence'].split(\" \")) - 1))\n",
    "\n",
    "for input_sample in ptb_test:\n",
    "    smoothed_trigram_test_probabilities.append(smoothed_trigram_lm_seq_probability(\n",
    "        input_sample['sentence'],\n",
    "        word_prob_dict,\n",
    "        word_frequency_dict,\n",
    "        bigram_frequency_dict,\n",
    "        first_order_condition_prob,\n",
    "        second_order_condition_prob,\n",
    "        smoothing_alpha=3E-3\n",
    "    ))\n",
    "\n",
    "print(\n",
    "    f\"{smoothed_trigram_test_probabilities.count(0) / len(ptb_test) * 100}% of samples in the test set have zero probability!\")"
   ]
  },
  {
   "cell_type": "markdown",
   "id": "26ddd040",
   "metadata": {},
   "source": [
    "Now we compute the perplexity on the `ptb_test` dataset for the tri-gram language model."
   ]
  },
  {
   "cell_type": "code",
   "execution_count": 162,
   "id": "25ed3d70",
   "metadata": {
    "ExecuteTime": {
     "end_time": "2024-02-28T10:37:37.224040700Z",
     "start_time": "2024-02-28T10:37:36.979536800Z"
    }
   },
   "outputs": [
    {
     "name": "stdout",
     "output_type": "stream",
     "text": [
      "Trigram language model perplexity is 2334.430085680779\n"
     ]
    }
   ],
   "source": [
    "trigram_lm_perplexities = []\n",
    "\n",
    "for i, smoothed_trigram_test_probabilities in enumerate(smoothed_trigram_test_probabilities):\n",
    "    trigram_lm_perplexities.append(\n",
    "        smoothed_trigram_test_probabilities ** (-1 / len(ptb_test[i]['sentence'].split(\" \"))))\n",
    "\n",
    "trigram_lm_perplexity = np.mean(trigram_lm_perplexities)\n",
    "\n",
    "print(f\"Trigram language model perplexity is {trigram_lm_perplexity}\")"
   ]
  },
  {
   "cell_type": "markdown",
   "id": "e34c59c8",
   "metadata": {},
   "source": [
    "Repeat the same steps but for `cleaned_train_dataset` and `cleaned_test_dataset` datasets where rare tokens (with frequency less than 10) are replaced with `<unk>` token. Do we have a better or a worse perplexity compared to the previous computed perplexity?"
   ]
  },
  {
   "cell_type": "code",
   "execution_count": 163,
   "id": "41b456be",
   "metadata": {
    "ExecuteTime": {
     "end_time": "2024-02-28T10:38:45.517055500Z",
     "start_time": "2024-02-28T10:38:39.037441800Z"
    }
   },
   "outputs": [
    {
     "name": "stdout",
     "output_type": "stream",
     "text": [
      "0.0% of samples in the test set have zero probability!\n",
      "Trigram language model perplexity on clean dataset is 1190.4949616206375\n"
     ]
    }
   ],
   "source": [
    "smoothed_trigram_test_probabilities = []\n",
    "\n",
    "word_prob_dict, first_order_condition_prob, second_order_condition_prob = get_smoothed_second_order_conditional_probabilities(\n",
    "    cleaned_train_dataset, smoothing_alpha=0.01)\n",
    "word_frequency_dict = Counter(\n",
    "    word for input_sample in cleaned_train_dataset for word in input_sample['sentence'].split(\" \"))\n",
    "bigram_frequency_dict = Counter((input_sample['sentence'].split(\" \")[idx], input_sample['sentence'].split(\" \")[idx + 1])\n",
    "                                for input_sample in cleaned_train_dataset for idx in\n",
    "                                range(len(input_sample['sentence'].split(\" \")) - 1))\n",
    "\n",
    "for input_sample in cleaned_test_dataset:\n",
    "    smoothed_trigram_test_probabilities.append(smoothed_trigram_lm_seq_probability(\n",
    "        input_sample['sentence'],\n",
    "        word_prob_dict,\n",
    "        word_frequency_dict,\n",
    "        bigram_frequency_dict,\n",
    "        first_order_condition_prob,\n",
    "        second_order_condition_prob,\n",
    "        smoothing_alpha=3E-3\n",
    "    ))\n",
    "\n",
    "print(\n",
    "    f\"{smoothed_trigram_test_probabilities.count(0) / len(cleaned_test_dataset) * 100}% of samples in the test set have zero probability!\")\n",
    "\n",
    "trigram_lm_perplexities = []\n",
    "\n",
    "for i, smoothed_trigram_test_probabilities in enumerate(smoothed_trigram_test_probabilities):\n",
    "    trigram_lm_perplexities.append(\n",
    "        smoothed_trigram_test_probabilities ** (-1 / len(cleaned_test_dataset[i]['sentence'].split(\" \"))))\n",
    "\n",
    "trigram_lm_perplexity = np.mean(trigram_lm_perplexities)\n",
    "\n",
    "print(f\"Trigram language model perplexity on clean dataset is {trigram_lm_perplexity}\")"
   ]
  },
  {
   "cell_type": "markdown",
   "id": "2d8e69cc",
   "metadata": {},
   "source": [
    "#### Discussion\n",
    " - How are the three discussed models performance compare to each other?\n",
    " - What is the cost of using N-gram language models for even larger N values?\n",
    " - What is the effect of vocabulary size on models' perplexities? Can we compare models with different vocabulary sizes?\n",
    " - What is the perplexity of a language model (vocabulary size of |V|) that given any context (i.e., $x_1 x_2 ... x_{n-1}$) assigns uniform probabilities (for all the tokens in the vocabulary) for the next token? "
   ]
  },
  {
   "cell_type": "markdown",
   "id": "641578b1",
   "metadata": {},
   "source": [
    "## 2. Task B: Neural Language Models <a name='neural_lm'></a>\n",
    "\n",
    "In this exercise, we will better understand the functioning of some simple neural language models. We first start with a fixed-window neural language model. In the following subsection, we will investigate an RNN-based language model."
   ]
  },
  {
   "cell_type": "markdown",
   "id": "88cee765",
   "metadata": {},
   "source": [
    "### 2.1 Fixed-Window Neural Language Model <a name='fixed_window_lm'></a>\n",
    "This language model take as input a constant number of tokens, and then outputs a probability distribution for the next token. In this section, we assume the underlying model is a Multi-layer Perceptron (MLP) with a single hidden layer. This model doesn't have the sparsity issue of N-gram language models, but is always limited to a fixed window of tokens.\n",
    "\n",
    "In this section, we don't include the training of the model but rather we use a pretrained model on the same training dataset. We evaluate the language model over the `ptb_test` dataset, to show the power of neural language models, when compared to N-gram language models.\n",
    "\n",
    "More importantly, we use PyTorch modules in this section, so that you get more familiar with its capabilities. Throughout this exercise, we use a `window_size=3` for this model.\n",
    "\n"
   ]
  },
  {
   "cell_type": "markdown",
   "id": "6808da1e",
   "metadata": {},
   "source": [
    "Let's first create a dataset of all consecutive tokens of length `window_size` from the `ptb_train` dataset. you can read more about PyTorch datasets and how to create a custom dataset  [here](https://pytorch.org/tutorials/beginner/basics/data_tutorial.html#creating-a-custom-dataset-for-your-files)."
   ]
  },
  {
   "cell_type": "code",
   "execution_count": 183,
   "id": "70f5c3bf",
   "metadata": {
    "ExecuteTime": {
     "end_time": "2024-02-28T10:51:59.871136300Z",
     "start_time": "2024-02-28T10:51:59.767117200Z"
    }
   },
   "outputs": [],
   "source": [
    "from torch.utils.data import Dataset, DataLoader\n",
    "\n",
    "window_size = 3\n",
    "vocabulary_size = 10000\n",
    "word_emb_dim = 100\n",
    "hidden_dim = 100\n",
    "\n",
    "\n",
    "class FixedWindowDataset(Dataset):\n",
    "    # read more about custom datasets at https://pytorch.org/tutorials/beginner/basics/data_tutorial.html\n",
    "    def __init__(self,\n",
    "                 train_dataset: datasets.arrow_dataset.Dataset,\n",
    "                 test_dataset: datasets.arrow_dataset.Dataset,\n",
    "                 window_size: int,\n",
    "                 vocabulary_size: int\n",
    "                 ):\n",
    "        self.prepared_train_dataset = self.prepare_fixed_window_lm_dataset(train_dataset, window_size + 1)\n",
    "        self.prepared_test_dataset = self.prepare_fixed_window_lm_dataset(test_dataset, window_size + 1)\n",
    "\n",
    "        dataset_vocab = self.get_dataset_vocabulary(train_dataset)\n",
    "        # defining a dictionary that simply maps tokens to their respective index in the embedding matrix\n",
    "        self.word_to_index = {word: idx for idx, word in enumerate(dataset_vocab)}\n",
    "        self.index_to_word = {idx: word for idx, word in enumerate(dataset_vocab)}\n",
    "\n",
    "        assert vocabulary_size >= len(dataset_vocab), f\"The dataset vocab size is {len(dataset_vocab)}!\"\n",
    "\n",
    "    def __len__(self):\n",
    "        return len(self.prepared_train_dataset)\n",
    "\n",
    "    def get_encoded_test_samples(self):\n",
    "        all_token_lists = [sample.split() for sample in self.prepared_test_dataset]\n",
    "        all_token_ids = [[self.word_to_index.get(word, self.word_to_index[\"<unk>\"])\n",
    "                          for word in token_list[:-1]]\n",
    "                         for token_list in all_token_lists\n",
    "                         ]\n",
    "        all_next_token_ids = [self.word_to_index.get(token_list[-1], self.word_to_index[\"<unk>\"]) for\n",
    "                              token_list in all_token_lists]\n",
    "        return torch.tensor(all_token_ids), torch.tensor(all_next_token_ids)\n",
    "\n",
    "    def __getitem__(self, idx):\n",
    "        # here we need to transform the data to the format we expect at the model input\n",
    "        token_list = self.prepared_train_dataset[idx].split()\n",
    "        # having a fallback to <unk> token if an unseen word is encoded.\n",
    "        token_ids = [self.word_to_index.get(word, self.word_to_index[\"<unk>\"]) for word in token_list[:-1]]\n",
    "        next_token_id = self.word_to_index.get(token_list[-1], self.word_to_index[\"<unk>\"])\n",
    "        return torch.tensor(token_ids), torch.tensor(next_token_id)\n",
    "\n",
    "    def decode_idx_to_word(self, token_id):\n",
    "        return [self.index_to_word[id_.item()] for id_ in token_id]\n",
    "\n",
    "    def get_dataset_vocabulary(self, train_dataset: datasets.arrow_dataset.Dataset):\n",
    "        vocab = sorted(set(\" \".join([sample[\"sentence\"] for sample in train_dataset]).split()))\n",
    "        # we also add a <start> token to include initial tokens in the sentences in the dataset\n",
    "        vocab += [\"<start>\"]\n",
    "        return vocab\n",
    "\n",
    "    @staticmethod\n",
    "    def prepare_fixed_window_lm_dataset(target_dataset: datasets.arrow_dataset.Dataset,\n",
    "                                        window_size: int):\n",
    "        \"\"\"\n",
    "        Please note that for the very first tokens, they will be added like \"<start> <start> Token#1\".\n",
    "        args:\n",
    "            target_dataset: the target dataset where its consecutive tokens of length 'window_size' should be extracted\n",
    "            window_size: the window size for the language model\n",
    "        output:\n",
    "            prepared_dataset: a list of strings each containing 'window_size' tokens.\n",
    "        \"\"\"\n",
    "\n",
    "        prepared_dataset = []\n",
    "\n",
    "        for sample_input in target_dataset:\n",
    "            sentence_words = sample_input['sentence'].split(\" \")\n",
    "            for i in range(0, len(sentence_words) - window_size + 1):\n",
    "                prepared_dataset.append(\" \".join(sentence_words[i:i + window_size]))\n",
    "\n",
    "        return prepared_dataset"
   ]
  },
  {
   "cell_type": "code",
   "execution_count": 184,
   "id": "524f4a18",
   "metadata": {
    "ExecuteTime": {
     "end_time": "2024-02-28T10:52:02.945379500Z",
     "start_time": "2024-02-28T10:52:01.000513300Z"
    }
   },
   "outputs": [],
   "source": [
    "fixed_window_dataset = FixedWindowDataset(ptb_train, ptb_test, window_size, vocabulary_size)\n",
    "\n",
    "# let's create a simple dataloader for this dataset\n",
    "train_dataloader = DataLoader(fixed_window_dataset, batch_size=8, shuffle=True)"
   ]
  },
  {
   "cell_type": "markdown",
   "id": "5b44e90d",
   "metadata": {},
   "source": [
    "Now, let's define the underlying PyTorch model for the language model. You can read more about PyTorch models [here](https://pytorch.org/tutorials/beginner/introyt/modelsyt_tutorial.html).\n",
    "\n",
    "**Note**: Here in the forward pass, we compute the negative log-likelihood after passing through the MLP layers. Here we use `torch.nn.LogSoftmax`, as it's numerically more stable than doing seperately `softmax` followed by taking its logarithm."
   ]
  },
  {
   "cell_type": "code",
   "execution_count": 194,
   "id": "e3ea691f",
   "metadata": {
    "ExecuteTime": {
     "end_time": "2024-02-28T10:57:57.212036100Z",
     "start_time": "2024-02-28T10:57:57.124514600Z"
    }
   },
   "outputs": [],
   "source": [
    "import torch.optim as optim\n",
    "\n",
    "\n",
    "class Fixed_window_language_model(torch.nn.Module):\n",
    "    def __init__(self, emb_dim, hidden_dim, window_size, vocab_size=10000):\n",
    "        super().__init__()\n",
    "\n",
    "        self.window_size = window_size\n",
    "        self.emb_dim = emb_dim\n",
    "        self.word_embeddings = torch.nn.Embedding(vocab_size, emb_dim)  # word embeddings\n",
    "        self.linear1 = torch.nn.Linear(window_size * emb_dim, hidden_dim)  # first linear layer\n",
    "        self.activation_func = torch.tanh  # the activation function\n",
    "        self.linear2 = torch.nn.Linear(hidden_dim, vocab_size)  # second linear layer\n",
    "\n",
    "        self.log_softmax = torch.nn.LogSoftmax(dim=1)\n",
    "        self.criterion = torch.nn.NLLLoss()\n",
    "\n",
    "    def forward(self, input_ids, labels):\n",
    "        inputs_embeds = self.word_embeddings(input_ids)\n",
    "        concat_input_embed = inputs_embeds.reshape(-1, self.emb_dim * self.window_size)\n",
    "        hidden_state = self.activation_func(self.linear1(concat_input_embed))\n",
    "        logits = self.log_softmax(self.linear2(hidden_state))\n",
    "        loss = self.criterion(logits, labels)\n",
    "\n",
    "        return loss\n"
   ]
  },
  {
   "cell_type": "markdown",
   "id": "4dae5397",
   "metadata": {},
   "source": [
    "Now let's see how easy it is to train a model with PyTorch! (we provide a trained model in the cell after train, so that you can just start using the model without going through the time-consuming training)"
   ]
  },
  {
   "cell_type": "code",
   "execution_count": 196,
   "id": "93779901",
   "metadata": {
    "ExecuteTime": {
     "end_time": "2024-02-28T10:58:24.286752500Z",
     "start_time": "2024-02-28T10:58:24.261664700Z"
    }
   },
   "outputs": [],
   "source": [
    "# defining the model\n",
    "model_fixed_window = Fixed_window_language_model(emb_dim=word_emb_dim, hidden_dim=hidden_dim,\n",
    "                                                 window_size=window_size, vocab_size=vocabulary_size)\n",
    "\n",
    "# defining the optimizer\n",
    "optimizer = optim.SGD(model_fixed_window.parameters(),\n",
    "                      lr=0.005,\n",
    "                      momentum=0.9)"
   ]
  },
  {
   "cell_type": "code",
   "execution_count": 206,
   "id": "77626d29",
   "metadata": {
    "scrolled": true,
    "ExecuteTime": {
     "end_time": "2024-02-28T11:08:15.394484600Z",
     "start_time": "2024-02-28T11:01:22.005777Z"
    }
   },
   "outputs": [
    {
     "name": "stderr",
     "output_type": "stream",
     "text": [
      "Epoch: 1 | Loss: 0.019: 100%|██████████| 80271/80271 [03:20<00:00, 400.83it/s]\n",
      "Epoch: 2 | Loss: 0.018: 100%|██████████| 80271/80271 [03:32<00:00, 377.24it/s]\n"
     ]
    },
    {
     "name": "stdout",
     "output_type": "stream",
     "text": [
      "Finished Training\n"
     ]
    }
   ],
   "source": [
    "from tqdm import tqdm\n",
    "\n",
    "device = torch.device('cuda') if torch.cuda.is_available() else torch.device('cpu')\n",
    "\n",
    "model_fixed_window = model_fixed_window.to(device)\n",
    "\n",
    "for epoch in range(2):  # loop over the dataset multiple times\n",
    "\n",
    "    running_loss = 0.0\n",
    "    pbar = tqdm(enumerate(train_dataloader), total=len(train_dataloader))\n",
    "    for i, data in pbar:\n",
    "        # get the inputs; data is a tuple of (context, target)\n",
    "        context, target = data\n",
    "\n",
    "        # zero the parameter gradients\n",
    "        optimizer.zero_grad()\n",
    "\n",
    "        # forward + backward + optimize\n",
    "        loss = model_fixed_window(context.to(device), target.to(device))\n",
    "        loss.backward()\n",
    "        optimizer.step()\n",
    "\n",
    "        # print statistics\n",
    "        running_loss += loss.item()\n",
    "        pbar.set_description(f'Epoch: {epoch + 1} | Loss: {running_loss / i if i != 0 else 0:.3f}')\n",
    "        if i % 5000 == 0:\n",
    "            running_loss = 0.0\n",
    "\n",
    "print('Finished Training')\n",
    "\n",
    "# saving the trained model\n",
    "torch.save(model_fixed_window.state_dict(), \"fixed_window_model.pt\")"
   ]
  },
  {
   "cell_type": "code",
   "outputs": [],
   "source": [
    "torch.save(model_fixed_window.state_dict(), 'fixed_window_model.pt')"
   ],
   "metadata": {
    "collapsed": false,
    "ExecuteTime": {
     "end_time": "2024-02-28T11:09:30.262137600Z",
     "start_time": "2024-02-28T11:09:30.166134800Z"
    }
   },
   "id": "4052acb9a684151c",
   "execution_count": 207
  },
  {
   "cell_type": "markdown",
   "id": "0483dd01",
   "metadata": {},
   "source": [
    "We provide a trained model, so that you can start using it right away"
   ]
  },
  {
   "cell_type": "code",
   "execution_count": 205,
   "id": "54ba51b1",
   "metadata": {
    "ExecuteTime": {
     "end_time": "2024-02-28T11:01:05.008020900Z",
     "start_time": "2024-02-28T11:01:04.833485Z"
    }
   },
   "outputs": [
    {
     "ename": "RuntimeError",
     "evalue": "Error(s) in loading state_dict for Fixed_window_language_model:\n\tMissing key(s) in state_dict: \"word_embeddings.weight\", \"linear1.weight\", \"linear1.bias\", \"linear2.weight\", \"linear2.bias\". \n\tUnexpected key(s) in state_dict: \"embedding.weight\", \"rnn.weight_ih_l0\", \"rnn.weight_hh_l0\", \"rnn.bias_ih_l0\", \"rnn.bias_hh_l0\", \"rnn.weight_ih_l1\", \"rnn.weight_hh_l1\", \"rnn.bias_ih_l1\", \"rnn.bias_hh_l1\", \"rnn.weight_ih_l2\", \"rnn.weight_hh_l2\", \"rnn.bias_ih_l2\", \"rnn.bias_hh_l2\", \"rnn.weight_ih_l3\", \"rnn.weight_hh_l3\", \"rnn.bias_ih_l3\", \"rnn.bias_hh_l3\", \"lm_decoder.weight\", \"lm_decoder.bias\". ",
     "output_type": "error",
     "traceback": [
      "\u001B[0;31m---------------------------------------------------------------------------\u001B[0m",
      "\u001B[0;31mRuntimeError\u001B[0m                              Traceback (most recent call last)",
      "Cell \u001B[0;32mIn[205], line 2\u001B[0m\n\u001B[1;32m      1\u001B[0m fixed_window_checkpoint_file \u001B[38;5;241m=\u001B[39m \u001B[38;5;124m\"\u001B[39m\u001B[38;5;124mrnn_model.pt\u001B[39m\u001B[38;5;124m\"\u001B[39m\n\u001B[0;32m----> 2\u001B[0m \u001B[43mmodel_fixed_window\u001B[49m\u001B[38;5;241;43m.\u001B[39;49m\u001B[43mload_state_dict\u001B[49m\u001B[43m(\u001B[49m\u001B[43mtorch\u001B[49m\u001B[38;5;241;43m.\u001B[39;49m\u001B[43mload\u001B[49m\u001B[43m(\u001B[49m\u001B[43mfixed_window_checkpoint_file\u001B[49m\u001B[43m)\u001B[49m\u001B[43m)\u001B[49m\n",
      "File \u001B[0;32m~/anaconda3/envs/torch_mnlp/lib/python3.10/site-packages/torch/nn/modules/module.py:2153\u001B[0m, in \u001B[0;36mModule.load_state_dict\u001B[0;34m(self, state_dict, strict, assign)\u001B[0m\n\u001B[1;32m   2148\u001B[0m         error_msgs\u001B[38;5;241m.\u001B[39minsert(\n\u001B[1;32m   2149\u001B[0m             \u001B[38;5;241m0\u001B[39m, \u001B[38;5;124m'\u001B[39m\u001B[38;5;124mMissing key(s) in state_dict: \u001B[39m\u001B[38;5;132;01m{}\u001B[39;00m\u001B[38;5;124m. \u001B[39m\u001B[38;5;124m'\u001B[39m\u001B[38;5;241m.\u001B[39mformat(\n\u001B[1;32m   2150\u001B[0m                 \u001B[38;5;124m'\u001B[39m\u001B[38;5;124m, \u001B[39m\u001B[38;5;124m'\u001B[39m\u001B[38;5;241m.\u001B[39mjoin(\u001B[38;5;124mf\u001B[39m\u001B[38;5;124m'\u001B[39m\u001B[38;5;124m\"\u001B[39m\u001B[38;5;132;01m{\u001B[39;00mk\u001B[38;5;132;01m}\u001B[39;00m\u001B[38;5;124m\"\u001B[39m\u001B[38;5;124m'\u001B[39m \u001B[38;5;28;01mfor\u001B[39;00m k \u001B[38;5;129;01min\u001B[39;00m missing_keys)))\n\u001B[1;32m   2152\u001B[0m \u001B[38;5;28;01mif\u001B[39;00m \u001B[38;5;28mlen\u001B[39m(error_msgs) \u001B[38;5;241m>\u001B[39m \u001B[38;5;241m0\u001B[39m:\n\u001B[0;32m-> 2153\u001B[0m     \u001B[38;5;28;01mraise\u001B[39;00m \u001B[38;5;167;01mRuntimeError\u001B[39;00m(\u001B[38;5;124m'\u001B[39m\u001B[38;5;124mError(s) in loading state_dict for \u001B[39m\u001B[38;5;132;01m{}\u001B[39;00m\u001B[38;5;124m:\u001B[39m\u001B[38;5;130;01m\\n\u001B[39;00m\u001B[38;5;130;01m\\t\u001B[39;00m\u001B[38;5;132;01m{}\u001B[39;00m\u001B[38;5;124m'\u001B[39m\u001B[38;5;241m.\u001B[39mformat(\n\u001B[1;32m   2154\u001B[0m                        \u001B[38;5;28mself\u001B[39m\u001B[38;5;241m.\u001B[39m\u001B[38;5;18m__class__\u001B[39m\u001B[38;5;241m.\u001B[39m\u001B[38;5;18m__name__\u001B[39m, \u001B[38;5;124m\"\u001B[39m\u001B[38;5;130;01m\\n\u001B[39;00m\u001B[38;5;130;01m\\t\u001B[39;00m\u001B[38;5;124m\"\u001B[39m\u001B[38;5;241m.\u001B[39mjoin(error_msgs)))\n\u001B[1;32m   2155\u001B[0m \u001B[38;5;28;01mreturn\u001B[39;00m _IncompatibleKeys(missing_keys, unexpected_keys)\n",
      "\u001B[0;31mRuntimeError\u001B[0m: Error(s) in loading state_dict for Fixed_window_language_model:\n\tMissing key(s) in state_dict: \"word_embeddings.weight\", \"linear1.weight\", \"linear1.bias\", \"linear2.weight\", \"linear2.bias\". \n\tUnexpected key(s) in state_dict: \"embedding.weight\", \"rnn.weight_ih_l0\", \"rnn.weight_hh_l0\", \"rnn.bias_ih_l0\", \"rnn.bias_hh_l0\", \"rnn.weight_ih_l1\", \"rnn.weight_hh_l1\", \"rnn.bias_ih_l1\", \"rnn.bias_hh_l1\", \"rnn.weight_ih_l2\", \"rnn.weight_hh_l2\", \"rnn.bias_ih_l2\", \"rnn.bias_hh_l2\", \"rnn.weight_ih_l3\", \"rnn.weight_hh_l3\", \"rnn.bias_ih_l3\", \"rnn.bias_hh_l3\", \"lm_decoder.weight\", \"lm_decoder.bias\". "
     ]
    }
   ],
   "source": [
    "fixed_window_checkpoint_file = \"fixed_window_model.pt\"\n",
    "model_fixed_window.load_state_dict(torch.load(fixed_window_checkpoint_file))"
   ]
  },
  {
   "cell_type": "code",
   "execution_count": 208,
   "id": "b806f375",
   "metadata": {
    "ExecuteTime": {
     "end_time": "2024-02-28T11:09:37.548799400Z",
     "start_time": "2024-02-28T11:09:36.578895800Z"
    }
   },
   "outputs": [],
   "source": [
    "# context and 'target' ids (target is the next word after the context)\n",
    "test_token_ids, test_target_ids = fixed_window_dataset.get_encoded_test_samples()"
   ]
  },
  {
   "cell_type": "markdown",
   "id": "f87e283d",
   "metadata": {},
   "source": [
    "We now have the `test_token_ids`, `test_target_ids` tensors for the test dataset. The `test_token_ids` are the context ids and `test_target_ids` are the respective **next token** (a.k.a. target here) for these contexts.\n",
    "#### Using the trained model, implement a function that can output the loss for the discussed test dataset. How can we generally decide if the model is overfitted to the train dataset or not?"
   ]
  },
  {
   "cell_type": "code",
   "execution_count": 217,
   "id": "e352e019",
   "metadata": {
    "ExecuteTime": {
     "end_time": "2024-02-28T11:43:45.477125600Z",
     "start_time": "2024-02-28T11:43:31.038826900Z"
    }
   },
   "outputs": [
    {
     "name": "stderr",
     "output_type": "stream",
     "text": [
      "100%|██████████| 40340/40340 [00:14<00:00, 2805.88it/s]"
     ]
    },
    {
     "name": "stdout",
     "output_type": "stream",
     "text": [
      "Test dataset loss is 5.522061726169445\n"
     ]
    },
    {
     "name": "stderr",
     "output_type": "stream",
     "text": [
      "\n"
     ]
    }
   ],
   "source": [
    "def generate_test_dataset_loss(model: torch.nn.Module,\n",
    "                               test_token_ids: torch.Tensor,\n",
    "                               test_target_ids: torch.Tensor):\n",
    "    \"\"\"\n",
    "    args:\n",
    "        model: fixed-window language model\n",
    "        test_token_ids: the context ids in a single tensor.\n",
    "        test_target_ids: the target ids (next token after the context) in a single tensor.\n",
    "    output:\n",
    "        avg_test_loss: The average loss of model over test dataset.\n",
    "    \"\"\"\n",
    "    batch_size = 4\n",
    "    test_loss = []\n",
    "\n",
    "    for l_idx in tqdm(range(0, len(test_token_ids), batch_size)):\n",
    "        r_idx = l_idx + batch_size if l_idx + batch_size < len(test_token_ids) else len(test_token_ids)\n",
    "        batch_loss = model(test_token_ids[l_idx:r_idx].to(device), test_target_ids[l_idx:r_idx].to(device))\n",
    "        test_loss.append(batch_loss.item())\n",
    "\n",
    "    return np.mean(test_loss)\n",
    "\n",
    "\n",
    "test_dataset_loss = generate_test_dataset_loss(model_fixed_window, test_token_ids, test_target_ids)\n",
    "print(f\"Test dataset loss is {test_dataset_loss}\")"
   ]
  },
  {
   "cell_type": "markdown",
   "id": "085d7476",
   "metadata": {},
   "source": [
    "#### Using the trained fixed-window model, implemention a function that can output entropy for a given sequence."
   ]
  },
  {
   "cell_type": "code",
   "execution_count": 252,
   "id": "db54e454",
   "metadata": {
    "ExecuteTime": {
     "end_time": "2024-02-28T12:04:59.663885900Z",
     "start_time": "2024-02-28T12:04:59.575176600Z"
    }
   },
   "outputs": [],
   "source": [
    "def get_seqeuence_entropy_fixed_window_lm(model: torch.nn.Module,\n",
    "                                          input_sequence: str,\n",
    "                                          window_size: int,\n",
    "                                          word_to_idx: dict,\n",
    "                                          device):\n",
    "    \"\"\"\n",
    "    Note that e.g., in order to get the first token probability, you need to pass a sequence\n",
    "    like \"<start> <start> <start>\" (prefix padding) to the neural model. In a similar fashion, we need to pass\n",
    "    \"<start> <start> TOKEN#1\" for getting the probability of the second token.\n",
    "    args:\n",
    "        model: fixed-window language model\n",
    "        input_sequence: the sequence for which we want to calculate the probability\n",
    "        window_size: the size of window for the language model\n",
    "        word_to_idx: a mapping from words to the embedding indices (to encode tokens before being\n",
    "                     passed to model). You can get this dict from 'fixed_window_dataset.word_to_index'\n",
    "    output:\n",
    "        sequence_entropy: the entropy for the input sequence using the trained model\n",
    "    \"\"\"\n",
    "    padded_sentence = (window_size - 1) * \"<start> \" + input_sequence\n",
    "    word_idxs = torch.tensor([word_to_idx[word] for word in padded_sentence.split(\" \")])\n",
    "    input_sequences = word_idxs.unfold(0, window_size, 1)\n",
    "\n",
    "    targets = torch.roll(word_idxs, -1)[(window_size - 1):]\n",
    "    targets[-1] = word_to_idx['<stop>']\n",
    "\n",
    "    out_entropy = model(input_sequences.to(device), targets.to(device))\n",
    "\n",
    "    return out_entropy.item()"
   ]
  },
  {
   "cell_type": "markdown",
   "id": "7d055835",
   "metadata": {},
   "source": [
    "#### Compute the perplexity for the trained fixed-window language model over `ptb_test` dataset using the previous function. How does it perform compared to N-gram language models we discussed earlier?"
   ]
  },
  {
   "cell_type": "code",
   "execution_count": 258,
   "id": "f4289886",
   "metadata": {
    "ExecuteTime": {
     "end_time": "2024-02-28T12:07:57.093340700Z",
     "start_time": "2024-02-28T12:07:52.342594400Z"
    }
   },
   "outputs": [
    {
     "name": "stderr",
     "output_type": "stream",
     "text": [
      "100%|██████████| 8343/8343 [00:04<00:00, 1760.67it/s]"
     ]
    },
    {
     "name": "stdout",
     "output_type": "stream",
     "text": [
      "The fixed-window model perplexity over test dataset is 42.3648984376556\n"
     ]
    },
    {
     "name": "stderr",
     "output_type": "stream",
     "text": [
      "\n"
     ]
    }
   ],
   "source": [
    "entropies = []\n",
    "\n",
    "for input_sample in tqdm(ptb_test):\n",
    "    # Remove unknown words\n",
    "    sentence = input_sample[\"sentence\"].split(\" \")\n",
    "    sentence = [word if word in fixed_window_dataset.word_to_index.keys() else '<unk>' for word in sentence]\n",
    "    sentence = \" \".join(sentence)\n",
    "    \n",
    "    entropy = get_seqeuence_entropy_fixed_window_lm(model_fixed_window, sentence, window_size,\n",
    "                                                    fixed_window_dataset.word_to_index, device)\n",
    "    entropies.append(entropy)\n",
    "\n",
    "perplexity = 2 ** np.mean(entropies)\n",
    "\n",
    "print(f\"The fixed-window model perplexity over test dataset is {perplexity}\")"
   ]
  },
  {
   "cell_type": "markdown",
   "id": "240c3d89",
   "metadata": {},
   "source": [
    "### 2.2 RNN-based Language Model <a name='rnn_lm'></a>\n",
    "To address the need for a neural architecture that can proceed with any length input (as opposed to the fixed-window model that can only process a fixed number of tokens), we implement the Recurrent Neural Network (RNN). The core idea behind is that we can apply the same weight W repeatedly.\n",
    "\n",
    "An advatange of RNN model compared to fixed-window langauage model is that we can pass a given sentence at once, instead of passing it in many windows of size `window_size`. Moreover, the language model has the ability to look behind further that a fixed number of tokens.\n",
    "\n",
    " As we already did a neural model training exercise for the previous neural model, we only provide a trained LM at this section, so that you can focus only on the analysis part.\n",
    " \n",
    "You can find the dataset structure as well as the RNN architecture in the `rnn_utils.py` file."
   ]
  },
  {
   "cell_type": "code",
   "execution_count": 259,
   "id": "fc631bc1",
   "metadata": {
    "ExecuteTime": {
     "end_time": "2024-02-28T12:08:02.648424300Z",
     "start_time": "2024-02-28T12:08:00.599524Z"
    }
   },
   "outputs": [
    {
     "data": {
      "text/plain": "RNN_language_model(\n  (criterion): CrossEntropyLoss()\n  (embedding): Embedding(10000, 200)\n  (rnn): RNN(200, 200, num_layers=4)\n  (dropout): Dropout(p=0.001, inplace=False)\n  (lm_decoder): Linear(in_features=200, out_features=10000, bias=True)\n)"
     },
     "execution_count": 259,
     "metadata": {},
     "output_type": "execute_result"
    }
   ],
   "source": [
    "from rnn_utils import RNNDataset, RNN_language_model\n",
    "\n",
    "vocabulary_size = 10000\n",
    "word_emb_dim = 200\n",
    "hidden_dim = 200\n",
    "\n",
    "rnn_dataset = RNNDataset(ptb_train, ptb_test, vocabulary_size)\n",
    "\n",
    "# if gpu is available, we puts the model on it \n",
    "device = torch.device(\"cuda:0\" if torch.cuda.is_available() else \"cpu\")\n",
    "\n",
    "# Here we need a <pad> token for the RNN model, in order to have a batch of sequences with difference sizes \n",
    "pad_idx = rnn_dataset.pad_idx  # the index for <pad> token\n",
    "rnn_model = RNN_language_model(vocab_size=vocabulary_size, emb_dim=word_emb_dim, hidden_dim=hidden_dim,\n",
    "                               pad_idx=pad_idx)\n",
    "rnn_model.to(device)"
   ]
  },
  {
   "cell_type": "markdown",
   "id": "25137a9f",
   "metadata": {},
   "source": [
    "load the model weights using the state_dict in `rnn_model.pt` file."
   ]
  },
  {
   "cell_type": "code",
   "execution_count": 260,
   "id": "52adb1f9",
   "metadata": {
    "ExecuteTime": {
     "end_time": "2024-02-28T12:08:28.894878200Z",
     "start_time": "2024-02-28T12:08:28.677676400Z"
    }
   },
   "outputs": [
    {
     "data": {
      "text/plain": "<All keys matched successfully>"
     },
     "execution_count": 260,
     "metadata": {},
     "output_type": "execute_result"
    }
   ],
   "source": [
    "rnn_model.load_state_dict(torch.load(\"rnn_model.pt\"))"
   ]
  },
  {
   "cell_type": "markdown",
   "id": "f06eb967",
   "metadata": {},
   "source": [
    "As the training of an RNN model is time-consuming, we provide a trained language model on this dataset (`rnn_model.pt`), so that you can just analyze the model performance here.\n",
    "As mentioned above, as RNN can get sequences with varying lengths, the input sequences should be padded with a special token like `<pad>`, so that we can create a batch of sentences. The output of the defined RNN model (see the architecture detail `rnn_utils.py`) is the model's entropy over the input data.\n",
    "\n",
    "#### First get the encoded test samples of `ptb_test` dataset, and then pass these (already padded) sentences to the RNN model to get the respective entropy values. Compute the perplexity of the model and compare it with previous approaches.\n",
    "**HINT**: You can use the `get_encoded_test_samples` function of `rnn_dataset` to get encoded test samples.\n"
   ]
  },
  {
   "cell_type": "code",
   "execution_count": 268,
   "id": "09d7b99f",
   "metadata": {
    "ExecuteTime": {
     "end_time": "2024-02-28T12:13:16.399381200Z",
     "start_time": "2024-02-28T12:11:58.177024200Z"
    }
   },
   "outputs": [
    {
     "name": "stderr",
     "output_type": "stream",
     "text": [
      "100%|██████████| 8343/8343 [01:18<00:00, 106.83it/s]"
     ]
    },
    {
     "name": "stdout",
     "output_type": "stream",
     "text": [
      "The model perplexity is 568.3679330686524\n"
     ]
    },
    {
     "name": "stderr",
     "output_type": "stream",
     "text": [
      "\n"
     ]
    }
   ],
   "source": [
    "entropies = []\n",
    "\n",
    "for input_sample in tqdm(rnn_dataset.get_encoded_test_samples()):\n",
    "    entropies.append(rnn_model(input_sample[None, ...].to(device)).item())\n",
    "\n",
    "test_perplexity = 2 ** np.mean(entropies)\n",
    "\n",
    "print(f\"The model perplexity is {test_perplexity}\")"
   ]
  }
 ],
 "metadata": {
  "kernelspec": {
   "display_name": "Python 3 (ipykernel)",
   "language": "python",
   "name": "python3"
  },
  "language_info": {
   "codemirror_mode": {
    "name": "ipython",
    "version": 3
   },
   "file_extension": ".py",
   "mimetype": "text/x-python",
   "name": "python",
   "nbconvert_exporter": "python",
   "pygments_lexer": "ipython3",
   "version": "3.9.0"
  },
  "vscode": {
   "interpreter": {
    "hash": "a8ced340a52f9326f5856e1d63a73f97bd9f0a225610b549ff7b502d766a19ce"
   }
  }
 },
 "nbformat": 4,
 "nbformat_minor": 5
}
